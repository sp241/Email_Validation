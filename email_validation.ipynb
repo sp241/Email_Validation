{
 "cells": [
  {
   "cell_type": "code",
   "execution_count": 1,
   "id": "b3bab25f",
   "metadata": {},
   "outputs": [],
   "source": [
    "import pandas as pd \n",
    "import re\n",
    "from Levenshtein import distance as levenshtein_distance\n",
    "from jellyfish import jaro_winkler_similarity\n",
    "from Levenshtein import ratio\n",
    "import Levenshtein\n",
    "import jellyfish"
   ]
  },
  {
   "cell_type": "code",
   "execution_count": 2,
   "id": "ce7881b9",
   "metadata": {},
   "outputs": [],
   "source": [
    "import pandas as pd\n",
    "import re\n",
    "\n",
    "# ----------------------------\n",
    "# Step 1: Define Validation Logic\n",
    "# ----------------------------\n",
    "def is_valid_local_part_only(local_part):\n",
    "    # Rule 1: Length between 6 and 30 characters\n",
    "    if len(local_part) < 6 or len(local_part) > 30:\n",
    "        return False\n",
    "\n",
    "    # Rule 2: Only letters, digits, and at most one dot (no repetition)\n",
    "    if not re.fullmatch(r'[A-Za-z0-9]+(\\.[A-Za-z0-9]+)?', local_part):\n",
    "        return False\n",
    "\n",
    "    # Rule 3: Should not be digits only\n",
    "    if local_part.isdigit():\n",
    "        return False\n",
    "\n",
    "    # Rule 4: Must contain at least one letter\n",
    "    if not re.search(r'[A-Za-z]', local_part):\n",
    "        return False\n",
    "\n",
    "    return True\n",
    "\n",
    "def is_valid_email(email):\n",
    "    parts = email.split('@')\n",
    "    \n",
    "    # Must have exactly one '@'\n",
    "    if len(parts) != 2:\n",
    "        return False\n",
    "\n",
    "    local_part = parts[0]\n",
    "    return is_valid_local_part_only(local_part)\n",
    "\n",
    "# ----------------------------\n",
    "# Step 2: Read Excel File\n",
    "# ----------------------------\n",
    "file_path = \"G:\\LG_Task_internship\\Task_3\\Excel_Task3.xlsx\" # <-- Change this to your actual file name\n",
    "email_column = \"Email\"           # <-- Make sure this matches the column name in your file\n",
    "\n",
    "df = pd.read_excel(file_path)\n",
    "\n",
    "# Clean extra spaces in emails\n",
    "df[email_column] = df[email_column].astype(str).str.strip()\n",
    "\n",
    "# ----------------------------\n",
    "# Step 3: Check Validity\n",
    "# ----------------------------\n",
    "df['IsValid'] = df[email_column].apply(is_valid_email)\n",
    "\n",
    "# ----------------------------\n",
    "# Step 4: Split Valid and Invalid Emails\n",
    "# ----------------------------\n",
    "valid_emails = df[df['IsValid']][email_column].reset_index(drop=True)\n",
    "invalid_emails = df[~df['IsValid']][email_column].reset_index(drop=True)\n",
    "\n",
    "# Make sure both columns have same length\n",
    "max_len = max(len(valid_emails), len(invalid_emails))\n",
    "valid_emails = valid_emails.reindex(range(max_len))\n",
    "invalid_emails = invalid_emails.reindex(range(max_len))\n",
    "\n",
    "# ----------------------------\n",
    "# Step 5: Save to Excel File\n",
    "# ----------------------------\n",
    "result_df = pd.DataFrame({\n",
    "    'Valid Emails': valid_emails,\n",
    "    'Invalid Emails': invalid_emails\n",
    "})\n",
    "\n",
    "\n"
   ]
  },
  {
   "cell_type": "code",
   "execution_count": 3,
   "id": "35c73533",
   "metadata": {},
   "outputs": [
    {
     "name": "stdout",
     "output_type": "stream",
     "text": [
      "56\n",
      "56\n"
     ]
    }
   ],
   "source": [
    "print(len(invalid_emails))\n",
    "print(len(valid_emails))"
   ]
  },
  {
   "cell_type": "code",
   "execution_count": 4,
   "id": "d6a53d70",
   "metadata": {},
   "outputs": [
    {
     "name": "stdout",
     "output_type": "stream",
     "text": [
      "🔍 Average Levenshtein Similarity: 0.4127\n",
      "🔍 Average Jaro-Winkler Similarity: 0.6022\n",
      "✅ Jaro-Winkler is more accurate for me.\n"
     ]
    }
   ],
   "source": [
    "# Extract only local parts (before @)\n",
    "# ----------------------------\n",
    "valid_locals = valid_emails.str.split('@').str[0].dropna().tolist()\n",
    "invalid_locals = invalid_emails.str.split('@').str[0].dropna().tolist()\n",
    "\n",
    "# Compare Using Levenshtein and Jaro-Winkler\n",
    "# ----------------------------\n",
    "lev_scores = []\n",
    "jw_scores = []\n",
    "\n",
    "for invalid in invalid_locals:\n",
    "    best_lev = 0\n",
    "    best_jw = 0\n",
    "    for valid in valid_locals:\n",
    "        lev = Levenshtein.ratio(invalid, valid)\n",
    "        jw = jellyfish.jaro_winkler_similarity(invalid, valid)\n",
    "        best_lev = max(best_lev, lev)\n",
    "        best_jw = max(best_jw, jw)\n",
    "    lev_scores.append(best_lev)\n",
    "    jw_scores.append(best_jw)\n",
    "\n",
    "# ----------------------------\n",
    "# Print and Compare Average Similarity\n",
    "# ----------------------------\n",
    "avg_lev = sum(lev_scores) / len(lev_scores) if lev_scores else 0\n",
    "avg_jw = sum(jw_scores) / len(jw_scores) if jw_scores else 0\n",
    "\n",
    "print(\"🔍 Average Levenshtein Similarity:\", round(avg_lev, 4))\n",
    "print(\"🔍 Average Jaro-Winkler Similarity:\", round(avg_jw, 4))\n",
    "\n",
    "if avg_lev > avg_jw:\n",
    "    print(\"✅ Levenshtein is more accurate for me.\")\n",
    "else:\n",
    "    print(\"✅ Jaro-Winkler is more accurate for me.\")\n"
   ]
  },
  {
   "cell_type": "code",
   "execution_count": null,
   "id": "943bfc78",
   "metadata": {},
   "outputs": [],
   "source": []
  }
 ],
 "metadata": {
  "kernelspec": {
   "display_name": "Python 3",
   "language": "python",
   "name": "python3"
  },
  "language_info": {
   "codemirror_mode": {
    "name": "ipython",
    "version": 3
   },
   "file_extension": ".py",
   "mimetype": "text/x-python",
   "name": "python",
   "nbconvert_exporter": "python",
   "pygments_lexer": "ipython3",
   "version": "3.11.4"
  }
 },
 "nbformat": 4,
 "nbformat_minor": 5
}
